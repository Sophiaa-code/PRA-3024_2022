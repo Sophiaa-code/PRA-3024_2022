{
  "nbformat": 4,
  "nbformat_minor": 0,
  "metadata": {
    "colab": {
      "name": "GW_exercise4.ipynb",
      "provenance": [],
      "authorship_tag": "ABX9TyMWsXLigdUDDDbzZT6RX2v4"
    },
    "kernelspec": {
      "name": "python3",
      "display_name": "Python 3"
    },
    "language_info": {
      "name": "python"
    }
  },
  "cells": [
    {
      "cell_type": "code",
      "execution_count": 1,
      "metadata": {
        "colab": {
          "base_uri": "https://localhost:8080/",
          "height": 1000
        },
        "id": "ra15DZf3J8bo",
        "outputId": "ba263c65-9fe1-4a35-e2c5-012e3433e8e8"
      },
      "outputs": [
        {
          "output_type": "stream",
          "name": "stdout",
          "text": [
            "\u001b[33mWARNING: The candidate selected for download or install is a yanked version: 'gwosc' candidate (version 0.5.4 at https://files.pythonhosted.org/packages/4e/e2/eb2cdf5386686451377f3ab8a83d1501b01ec76037d65ad99228c503a2a7/gwosc-0.5.4-py3-none-any.whl#sha256=c2a11a6fbf7c31ad5baceb0826f82880b00c4f50ef4af6c4c1cc94151f8e514e (from https://pypi.org/simple/gwosc/))\n",
          
            "Requirement already satisfied: cycler>=0.10 in /usr/local/lib/python3.7/dist-packages (from matplotlib==3.1.3) (0.11.0)\n",
            "Requirement already satisfied: kiwisolver>=1.0.1 in /usr/local/lib/python3.7/dist-packages (from matplotlib==3.1.3) (1.3.2)\n",
            "Requirement already satisfied: pyparsing!=2.0.4,!=2.1.2,!=2.1.6,>=2.0.1 in /usr/local/lib/python3.7/dist-packages (from matplotlib==3.1.3) (3.0.7)\n",
            "Requirement already satisfied: python-dateutil>=2.1 in /usr/local/lib/python3.7/dist-packages (from matplotlib==3.1.3) (2.8.2)\n",
            "Requirement already satisfied: six>=1.5 in /usr/local/lib/python3.7/dist-packages (from python-dateutil>=2.1->matplotlib==3.1.3) (1.15.0)\n",
            "Installing collected packages: matplotlib\n",
            "  Attempting uninstall: matplotlib\n",
            "    Found existing installation: matplotlib 3.5.1\n",
            "    Uninstalling matplotlib-3.5.1:\n",
            "      Successfully uninstalled matplotlib-3.5.1\n",
            "\u001b[31mERROR: pip's dependency resolver does not currently take into account all the packages that are installed. This behaviour is the source of the following dependency conflicts.\n",
            "gwpy 2.1.3 requires matplotlib>=3.3.0, but you have matplotlib 3.1.3 which is incompatible.\n",
            "albumentations 0.1.12 requires imgaug<0.2.7,>=0.2.5, but you have imgaug 0.2.9 which is incompatible.\u001b[0m\n",
            "Successfully installed matplotlib-3.1.3\n"
          ]
        },
        {
          "output_type": "display_data",
          "data": {
            "application/vnd.colab-display-data+json": {
              "pip_warning": {
                "packages": [
                  "matplotlib",
                  "mpl_toolkits"
                ]
              }
            }
          },
          "metadata": {}
        },
        {
          
        }
      ],
      "source": [
        "#installing the neessary package \n",
        "! pip install -q 'gwosc==0.5.4' \n",
        "#checking which version was installed\n",
        "import gwosc\n",
        "\n",
        "! pip install -q lalsuite\n",
        "! pip install -q gwpy\n",
        "! pip install -q pycbc\n",
        "! pip install matplotlib==3.1.3\n",
        "! pip install -q 'lalsuite==6.82' 'PyCBC==1.18.0'\n",
        "\n",
        "\n",
        "from google.colab import drive\n",
        "\n",
        "import numpy as np\n",
        "import matplotlib.pyplot as plt\n",
        "import numpy\n",
        "import pylab\n",
        "\n",
        "import pycbc.types \n",
        "from pycbc.types import TimeSeries\n",
        "\n",
        "import pycbc.noise\n",
        "\n",
        "import pycbc.psd\n",
        "from pycbc.psd import interpolate, inverse_spectrum_truncation\n",
        "\n",
        "import pycbc.filter\n",
        "from pycbc.filter import resample_to_delta_t, highpass, matched_filter\n",
        "\n",
        "import pycbc.waveform\n",
        "from pycbc.waveform import get_td_waveform\n",
        "\n",
        "#loading the data from the drive\n",
        "drive.mount('/content/drive')\n",
        "\n",
        "pycbc_strain = pycbc.types.load_timeseries('/content/drive/MyDrive/GW_noisedata-2.npy')"
      ]
    },
    {
      "cell_type": "code",
      "source": [
        "#Variables necessary to do the following operations\n",
        "\n",
        "#solar masses for this exercise\n",
        "# equal mass range (5, 10)\n",
        "m = np.arange(5,10,0.1) # Mass range bewteen 5 to  10 (format arguments: start, stop, step)\n",
        "m1 = m2 = m\n",
        "\n",
        "#choosing an approximant to create the template\n",
        "apx = \"TaylorF2\"\n",
        "\n",
        "#defining teh sample rate and the data length \n",
        "sample_rate = 2048 # samples per second\n",
        "data_length = 1024 # seconds\n",
        "delta_t = 1/sample_rate\n",
        "#defining the lower cut off frequency\n",
        "f_low = 15 #Hz\n",
        "#step for the mass iteration \n",
        "step = 0.1\n",
        "mass = numpy.arange(5,10+step,step) \n",
        "\n"
      ],
      "metadata": {
        "id": "_tqkO1odLO9z"
      },
      "execution_count": 18,
      "outputs": []
    },
    {
      "cell_type": "code",
      "source": [
        "#Preconditioning the data\n",
        "# First the low frequency content is removed and the data is downsampled to 2048Hz\n",
        "\n",
        "pycbc_strain = highpass(pycbc_strain, 15.0)\n",
        "pycbc_strain = resample_to_delta_t(pycbc_strain, 1.0/2048)\n",
        "\n",
        "# To condition the data, 2 seconds of data are removed from both the beginning and end \n",
        "conditioned_strain = pycbc_strain.crop(2,2)\n"
      ],
      "metadata": {
        "id": "1BLkSpK67oA3"
      },
      "execution_count": 19,
      "outputs": []
    },
    {
      "cell_type": "code",
      "source": [
        "#Plot the noise power spectral density (PSD) of that data.\n",
        "# Estimating the power spectral density again, this time with the preconditioned data to make the SNR calculation easier\n",
        "\n",
        "# We use 4 second samples of our time series in Welch method, which takes pieces of data and combines then\n",
        "psd = conditioned_strain.psd(4)\n",
        "\n",
        "#After having created our new psd, it is necessary to interpolate it so it properly matches our data and to limit the filter length of 1/PSD\n",
        " \n",
        "psd = interpolate(psd, conditioned_strain.delta_f)\n",
        "\n",
        "#As we have have highpassed our frequency with 15 and thus excluded frequencies below that, our low frequency cut off is at 15 Hz.\n",
        "psd = inverse_spectrum_truncation(psd, int(4 * pycbc_strain.sample_rate),\n",
        "                                  low_frequency_cutoff=f_low)\n",
        "#plotting the psd\n",
        "plt.plot(psd.sample_frequencies, psd)\n"
      ],
      "metadata": {
        "colab": {
          "base_uri": "https://localhost:8080/",
          "height": 293
        },
        "id": "omPL6em37vp5",
        "outputId": "8a264a10-1cc5-41ab-f25d-209bf7c0cfeb"
      },
      "execution_count": 13,
      "outputs": [
        {
          "output_type": "execute_result",
          "data": {
            "text/plain": [
              "[<matplotlib.lines.Line2D at 0x7f1622675490>]"
            ]
          },
          "metadata": {},
          "execution_count": 13
        },
        {
          "output_type": "display_data",
          "data": {
            "image/png": "[encoded data removed]",
            "text/plain": [
              "<Figure size 432x288 with 1 Axes>"
            ]
          },
          "metadata": {
            "needs_background": "light"
          }
        }
      ]
    },
    {
      "cell_type": "code",
      "source": [
        "#Testing whether there is any gravitational wave signal present in the data #\n",
        "\n",
        "\n",
        "#first a list needs to be initialised\n",
        "SNR_list = numpy.zeros((len(mass), 3), float)# We will later use this list to store the max SNR for every mass\n",
        "\n",
        "\n",
        "\n",
        "#To iterate through all the masses, I have created a loop to go through all values for the mass \n",
        "\n",
        "for x in range(0, len(mass)): \n",
        "  #creating the template for the different masses \n",
        " \n",
        "  hp, _ = get_td_waveform(approximant='TaylorF2',\n",
        "                          mass1=mass[x],\n",
        "                          mass2=mass[x],\n",
        "                          delta_t=1.0/sample_rate,\n",
        "                          f_lower=20)\n",
        "  # Now we have to resize the vector to match our data\n",
        "  hp.resize(len(conditioned_strain))\n",
        "  template = hp.cyclic_time_shift(hp.start_time)\n",
        " # Now the SNRs needs to be calculated, for every mass\n",
        "  snr = matched_filter(template, \n",
        "                       conditioned_strain,\n",
        "                       psd=psd, \n",
        "                       low_frequency_cutoff=15)\n",
        "  snr = snr.crop(4 + 4, 4)\n",
        "  \n",
        "  #now the maximum SNR values need to be stored in the list that was created earlier\n",
        "  #to determine wether there is a signal, we need to find the maximum SNRs and its location(time)\n",
        "\n",
        "  peak = abs(snr).numpy().argmax() \n",
        "  SNR_list[x][1] = snr[peak] #the first column in the previously created array displays the peak ([i] = for each mass)\n",
        "  SNR_list[x][2] = snr.sample_times[peak] #the second column is the time of the max SNR\n",
        "\n",
        "max_SNR_value = numpy.amax(SNR_list, axis=0)[1]\n",
        "max_SNR = numpy.where(SNR_list == max_SNR_value)[0]\n",
        "max_SNR_time = SNR_list[max_SNR,2]\n",
        "print(\"\\n => The highest SNR value has been found at {} s: SNR value = {}.\".format(max_SNR_time, abs(max_SNR_value)))\n",
        "# Now the SNR values need to be plotted, by overlaying all of the SNR plots for all the different masses\n",
        "pylab.plot(snr.sample_times, abs(snr))\n",
        "pylab.ylabel('signal-to-noise ratio')\n",
        "pylab.xlabel('time (s)')\n",
        "pylab.show()\n",
        "print('Maximum SNR', max(abs(snr)))\n",
        "print(SNR_list)"
      ],
      "metadata": {
        "colab": {
          "base_uri": "https://localhost:8080/",
          "height": 1000
        },
        "id": "tKwm60PvpiVG",
        "outputId": "2809b769-2f2b-416a-dc35-e109e720e769"
      },
      "execution_count": 20,
      "outputs": [
        {
          "output_type": "stream",
          "name": "stderr",
          "text": [
            "/usr/local/lib/python3.7/dist-packages/ipykernel_launcher.py:33: ComplexWarning: Casting complex values to real discards the imaginary part\n"
          ]
        },
        {
          "output_type": "stream",
          "name": "stdout",
          "text": [
            "\n",
            " => The highest SNR value has been found at [1.18700868e+09] s: SNR value = 5.37466025676849.\n"
          ]
        },
        {
          "output_type": "display_data",
          "data": {
            "image/png": "[encoded data removed]",
            "text/plain": [
              "<Figure size 432x288 with 1 Axes>"
            ]
          },
          "metadata": {
            "needs_background": "light"
          }
        },
        {
          "output_type": "stream",
          "name": "stdout",
          "text": [
            "Maximum SNR 5.145075211056601\n",
            "[[ 0.00000000e+00 -1.98963631e+00  1.18700885e+09]\n",
            " [ 0.00000000e+00 -4.45419701e+00  1.18700887e+09]\n",
            " [ 0.00000000e+00 -3.75167169e+00  1.18700882e+09]\n",
            " [ 0.00000000e+00  5.37466026e+00  1.18700868e+09]\n",
            " [ 0.00000000e+00  3.21590417e+00  1.18700870e+09]\n",
            " [ 0.00000000e+00 -4.67939386e+00  1.18700877e+09]\n",
            " [ 0.00000000e+00 -2.95270152e+00  1.18700872e+09]\n",
            " [ 0.00000000e+00  2.91737258e+00  1.18700871e+09]\n",
            " [ 0.00000000e+00 -2.80546959e+00  1.18700877e+09]\n",
            " [ 0.00000000e+00 -3.32467765e+00  1.18700870e+09]\n",
            " [ 0.00000000e+00 -5.04335694e+00  1.18700884e+09]\n",
            " [ 0.00000000e+00 -2.16643858e+00  1.18700887e+09]\n",
            " [ 0.00000000e+00 -5.25479206e+00  1.18700878e+09]\n",
            " [ 0.00000000e+00  3.32022898e+00  1.18700886e+09]\n",
            " [ 0.00000000e+00 -1.27771119e+00  1.18700889e+09]\n",
            " [ 0.00000000e+00  4.86901084e+00  1.18700885e+09]\n",
            " [ 0.00000000e+00 -2.79222883e+00  1.18700885e+09]\n",
            " [ 0.00000000e+00  3.92631308e+00  1.18700883e+09]\n",
            " [ 0.00000000e+00  4.35068709e+00  1.18700888e+09]\n",
            " [ 0.00000000e+00  3.71292815e+00  1.18700879e+09]\n",
            " [ 0.00000000e+00  5.04617122e+00  1.18700867e+09]\n",
            " [ 0.00000000e+00 -2.24302022e+00  1.18700876e+09]\n",
            " [ 0.00000000e+00  2.22470262e-01  1.18700871e+09]\n",
            " [ 0.00000000e+00 -3.82297510e+00  1.18700874e+09]\n",
            " [ 0.00000000e+00 -3.15336803e-01  1.18700881e+09]\n",
            " [ 0.00000000e+00  4.73108921e+00  1.18700881e+09]\n",
            " [ 0.00000000e+00  3.69646114e+00  1.18700888e+09]\n",
            " [ 0.00000000e+00 -4.43354318e+00  1.18700884e+09]\n",
            " [ 0.00000000e+00 -3.77643474e+00  1.18700887e+09]\n",
            " [ 0.00000000e+00  2.64994516e+00  1.18700869e+09]\n",
            " [ 0.00000000e+00  4.80617951e+00  1.18700884e+09]\n",
            " [ 0.00000000e+00  2.33809787e+00  1.18700876e+09]\n",
            " [ 0.00000000e+00 -5.47329366e+00  1.18700873e+09]\n",
            " [ 0.00000000e+00 -4.96276698e+00  1.18700887e+09]\n",
            " [ 0.00000000e+00  4.77851305e+00  1.18700888e+09]\n",
            " [ 0.00000000e+00 -4.92204796e+00  1.18700885e+09]\n",
            " [ 0.00000000e+00  1.04732037e+00  1.18700885e+09]\n",
            " [ 0.00000000e+00  4.91810970e+00  1.18700885e+09]\n",
            " [ 0.00000000e+00 -5.15367055e+00  1.18700885e+09]\n",
            " [ 0.00000000e+00 -3.09982659e+00  1.18700888e+09]\n",
            " [ 0.00000000e+00 -6.41863289e-01  1.18700887e+09]\n",
            " [ 0.00000000e+00 -4.27772618e+00  1.18700877e+09]\n",
            " [ 0.00000000e+00 -4.21322054e+00  1.18700887e+09]\n",
            " [ 0.00000000e+00 -2.54954131e+00  1.18700887e+09]\n",
            " [ 0.00000000e+00  4.99140738e+00  1.18700887e+09]\n",
            " [ 0.00000000e+00  1.62136174e+00  1.18700883e+09]\n",
            " [ 0.00000000e+00 -4.72570697e+00  1.18700873e+09]\n",
            " [ 0.00000000e+00  2.99482303e+00  1.18700883e+09]\n",
            " [ 0.00000000e+00  1.52423707e+00  1.18700873e+09]\n",
            " [ 0.00000000e+00  4.95010234e+00  1.18700873e+09]\n",
            " [ 0.00000000e+00 -9.54012757e-01  1.18700884e+09]]\n"
          ]
        }
      ]
    },
    {
      "cell_type": "markdown",
      "source": [
        "As the total max SNR value is 5, it can be concluded that there is no signal present in this data. For a signal to be accepted, it needs a SNR of over 8. This is not the case here.\n"
      ],
      "metadata": {
        "id": "_cbD0s3Wk4wQ"
      }
    },
    {
      "cell_type": "markdown",
      "source": [
        "Exercise 2:\n",
        "White Noise"
      ],
      "metadata": {
        "id": "51iE_zCUlGsq"
      }
    },
    {
      "cell_type": "code",
      "source": [
        "##Whiten the above data using its noise PSD\n",
        "data_whitened = (conditioned_strain.to_frequencyseries() / psd**0.5).to_timeseries()\n",
        "data_whitened = data_whitened.crop(4 + 4, 4)"
      ],
      "metadata": {
        "id": "-SQP2d0Z8WAz"
      },
      "execution_count": 21,
      "outputs": []
    },
    {
      "cell_type": "code",
      "source": [
        "##computing the mean of the noise to check wether it is indeed at 0\n",
        "#summing up the data\n",
        "sum = data_whitened.sum()\n",
        "#dividing by the len of the whitened data\n",
        "mean = sum/len(data_whitened)\n",
        "mean"
      ],
      "metadata": {
        "colab": {
          "base_uri": "https://localhost:8080/"
        },
        "id": "4fP8NiRl8aOV",
        "outputId": "9347a276-e3e8-47a7-89e2-0590d2b05a06"
      },
      "execution_count": 22,
      "outputs": [
        {
          "output_type": "execute_result",
          "data": {
            "text/plain": [
              "-0.0004411651871168172"
            ]
          },
          "metadata": {},
          "execution_count": 22
        }
      ]
    },
    {
      "cell_type": "code",
      "source": [
        "#creating a histogram\n",
        "num_bins = 300 #set the number of desired bins \n",
        "plt.hist(data_whitened, num_bins, facecolor='blue', alpha=0.5) #creating the  histogram \n",
        "\n",
        "min_ylim, max_ylim = plt.ylim() \n",
        "plt.axvline(x = mean , color='k', linestyle='dashed', linewidth=1) #drawing a line at 0 to check if the mean of the whitened data is indeed 0 \n",
        "#setting labels of the histogram\n",
        "pylab.ylabel('Probability')\n",
        "pylab.xlabel('Whitened Strain')\n",
        "pylab.title('Histogram of whitened data')\n",
        "pylab.show()"
      ],
      "metadata": {
        "colab": {
          "base_uri": "https://localhost:8080/",
          "height": 295
        },
        "id": "A3R7dNyC8e8-",
        "outputId": "377c088b-a818-4f82-fc95-c413ee398efd"
      },
      "execution_count": 23,
      "outputs": [
        {
          "output_type": "display_data",
          "data": {
            "image/png": "[encoded data removed]",
            "text/plain": [
              "<Figure size 432x288 with 1 Axes>"
            ]
          },
          "metadata": {
            "needs_background": "light"
          }
        }
      ]
    },
    {
      "cell_type": "code",
      "source": [
        ""
      ],
      "metadata": {
        "id": "DtNeA-VWLiEg"
      },
      "execution_count": 25,
      "outputs": []
    }
  ]
}

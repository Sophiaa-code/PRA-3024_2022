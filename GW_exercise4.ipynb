{
  "nbformat": 4,
  "nbformat_minor": 0,
  "metadata": {
    "colab": {
      "name": "GW_exercise4.ipynb",
      "provenance": [],
      "authorship_tag": "ABX9TyO3k4jLwkIdSaHuZTQYGLul",
      "include_colab_link": true
    },
    "kernelspec": {
      "name": "python3",
      "display_name": "Python 3"
    },
    "language_info": {
      "name": "python"
    }
  },
  "cells": [
    {
      "cell_type": "markdown",
      "metadata": {
        "id": "view-in-github",
        "colab_type": "text"
      },
      "source": [
        "<a href=\"https://colab.research.google.com/github/Sophiaa-code/PRA-3024_2022/blob/main/GW_exercise4.ipynb\" target=\"_parent\"><img src=\"https://colab.research.google.com/assets/colab-badge.svg\" alt=\"Open In Colab\"/></a>"
      ]
    },
    {
      "cell_type": "code",
      "execution_count": 1,
      "metadata": {
        "colab": {
          "base_uri": "https://localhost:8080/",
          "height": 1000
        },
        "id": "ra15DZf3J8bo",
        "outputId": "ba263c65-9fe1-4a35-e2c5-012e3433e8e8"
      },
      "outputs": [
        {
          "output_type": "stream",
          "name": "stdout",
          "text": [
            "\u001b[33mWARNING: The candidate selected for download or install is a yanked version: 'gwosc' candidate (version 0.5.4 at https://files.pythonhosted.org/packages/4e/e2/eb2cdf5386686451377f3ab8a83d1501b01ec76037d65ad99228c503a2a7/gwosc-0.5.4-py3-none-any.whl#sha256=c2a11a6fbf7c31ad5baceb0826f82880b00c4f50ef4af6c4c1cc94151f8e514e (from https://pypi.org/simple/gwosc/))\n",
            "Reason for being yanked: Metadata is broken\u001b[0m\n",
         
            "\u001b[?25hRequirement already satisfied: numpy>=1.11 in /usr/local/lib/python3.7/dist-packages (from matplotlib==3.1.3) (1.19.5)\n",
            "Requirement already satisfied: cycler>=0.10 in /usr/local/lib/python3.7/dist-packages (from matplotlib==3.1.3) (0.11.0)\n",
            "Requirement already satisfied: kiwisolver>=1.0.1 in /usr/local/lib/python3.7/dist-packages (from matplotlib==3.1.3) (1.3.2)\n",
            "Requirement already satisfied: pyparsing!=2.0.4,!=2.1.2,!=2.1.6,>=2.0.1 in /usr/local/lib/python3.7/dist-packages (from matplotlib==3.1.3) (3.0.7)\n",
            "Requirement already satisfied: python-dateutil>=2.1 in /usr/local/lib/python3.7/dist-packages (from matplotlib==3.1.3) (2.8.2)\n",
            "Requirement already satisfied: six>=1.5 in /usr/local/lib/python3.7/dist-packages (from python-dateutil>=2.1->matplotlib==3.1.3) (1.15.0)\n",
            "Installing collected packages: matplotlib\n",
            "  Attempting uninstall: matplotlib\n",
            "    Found existing installation: matplotlib 3.5.1\n",
            "    Uninstalling matplotlib-3.5.1:\n",
            "      Successfully uninstalled matplotlib-3.5.1\n",
            "\u001b[31mERROR: pip's dependency resolver does not currently take into account all the packages that are installed. This behaviour is the source of the following dependency conflicts.\n",
            "gwpy 2.1.3 requires matplotlib>=3.3.0, but you have matplotlib 3.1.3 which is incompatible.\n",
            "albumentations 0.1.12 requires imgaug<0.2.7,>=0.2.5, but you have imgaug 0.2.9 which is incompatible.\u001b[0m\n",
            "Successfully installed matplotlib-3.1.3\n"
          ]
        },
        {
          "output_type": "display_data",
          "data": {
            "application/vnd.colab-display-data+json": {
              "pip_warning": {
                "packages": [
                  "matplotlib",
                  "mpl_toolkits"
                ]
              }
            }
          },
          "metadata": {}
        },
        {
          "output_type": "stream",
          "name": "stdout",
          "text": [
            "\u001b[K     |████████████████████████████████| 27.3 MB 71.9 MB/s \n",
            "\u001b[K     |████████████████████████████████| 6.3 MB 48.7 MB/s \n",
            "\u001b[?25hMounted at /content/drive\n"
          ]
        }
      ],
      "source": [
        "#installing the neessary package \n",
        "! pip install -q 'gwosc==0.5.4' \n",
        "#checking which version was installed\n",
        "import gwosc\n",
        "\n",
        "! pip install -q lalsuite\n",
        "! pip install -q gwpy\n",
        "! pip install -q pycbc\n",
        "! pip install matplotlib==3.1.3\n",
        "! pip install -q 'lalsuite==6.82' 'PyCBC==1.18.0'\n",
        "\n",
        "\n",
        "from google.colab import drive\n",
        "\n",
        "import numpy as np\n",
        "import matplotlib.pyplot as plt\n",
        "import numpy\n",
        "import pylab\n",
        "\n",
        "import pycbc.types \n",
        "from pycbc.types import TimeSeries\n",
        "\n",
        "import pycbc.noise\n",
        "\n",
        "import pycbc.psd\n",
        "from pycbc.psd import interpolate, inverse_spectrum_truncation\n",
        "\n",
        "import pycbc.filter\n",
        "from pycbc.filter import resample_to_delta_t, highpass, matched_filter\n",
        "\n",
        "import pycbc.waveform\n",
        "from pycbc.waveform import get_td_waveform\n",
        "\n",
        "#loading the data from the drive\n",
        "drive.mount('/content/drive')\n",
        "\n",
        "pycbc_strain = pycbc.types.load_timeseries('/content/drive/MyDrive/GW_noisedata-2.npy')"
      ]
    },
    {
      "cell_type": "code",
      "source": [
        "#Variables necessary to do the following operations\n",
        "\n",
        "#solar masses for this exercise\n",
        "# equal mass range (5, 10)\n",
        "mass = numpy.arange(5,10+step,step)  # Mass range bewteen 5 to  10 (format arguments: start, stop, step)\n",
        "\n",
        "\n",
        "#choosing an approximant to create the template\n",
        "apx = \"TaylorF2\"\n",
        "\n",
        "#defining teh sample rate and the data length \n",
        "sample_rate = 2048 # samples per second\n",
        "data_length = 1024 # seconds\n",
        "delta_t = 1/sample_rate\n",
        "#defining the lower cut off frequency\n",
        "f_low = 15 #Hz\n",
        "#step for the mass iteration \n",
        "step = 0.1\n",
        "mass = numpy.arange(5,10+step,step) \n",
        "\n"
      ],
      "metadata": {
        "id": "_tqkO1odLO9z"
      },
      "execution_count": 24,
      "outputs": []
    },
    {
      "cell_type": "code",
      "source": [
        "#Preconditioning the data\n",
        "# First the low frequency content is removed and the data is downsampled to 2048Hz\n",
        "\n",
        "pycbc_strain = highpass(pycbc_strain, 15.0)\n",
        "pycbc_strain = resample_to_delta_t(pycbc_strain, 1.0/2048)\n",
        "\n",
        "# To condition the data, 2 seconds of data are removed from both the beginning and end \n",
        "conditioned_strain = pycbc_strain.crop(2,2)\n"
      ],
      "metadata": {
        "id": "1BLkSpK67oA3"
      },
      "execution_count": 25,
      "outputs": []
    },
    {
      "cell_type": "code",
      "source": [
        "#Plot the noise power spectral density (PSD) of that data.\n",
        "# Estimating the power spectral density again, this time with the preconditioned data to make the SNR calculation easier\n",
        "\n",
        "# We use 4 second samples of our time series in Welch method, which takes pieces of data and combines then\n",
        "psd = conditioned_strain.psd(4)\n",
        "\n",
        "#After having created our new psd, it is necessary to interpolate it so it properly matches our data and to limit the filter length of 1/PSD\n",
        " \n",
        "psd = interpolate(psd, conditioned_strain.delta_f)\n",
        "\n",
        "#As we have have highpassed our frequency with 15 and thus excluded frequencies below that, our low frequency cut off is at 15 Hz.\n",
        "psd = inverse_spectrum_truncation(psd, int(4 * pycbc_strain.sample_rate),\n",
        "                                  low_frequency_cutoff=f_low)\n",
        "#plotting the psd\n",
        "plt.plot(psd.sample_frequencies, psd)\n"
      ],
      "metadata": {
        "colab": {
          "base_uri": "https://localhost:8080/",
          "height": 293
        },
        "id": "omPL6em37vp5",
        "outputId": "78c6231e-c65e-4083-9ee5-7a67410bb8d1"
      },
      "execution_count": 26,
      "outputs": [
        {
          "output_type": "execute_result",
          "data": {
            "text/plain": [
              "[<matplotlib.lines.Line2D at 0x7f162282ecd0>]"
            ]
          },
          "metadata": {},
          "execution_count": 26
        },
        {
          "output_type": "display_data",
          "data": {
            "image/png": "[encoded data removed]",
            "text/plain": [
              "<Figure size 432x288 with 1 Axes>"
            ]
          },
          "metadata": {
            "needs_background": "light"
          }
        }
      ]
    },
    {
      "cell_type": "code",
      "source": [
        "#Testing whether there is any gravitational wave signal present in the data #\n",
        "\n",
        "\n",
        "#first a list needs to be initialised\n",
        "SNR_list = numpy.zeros((len(mass), 3), float)# We will later use this list to store the max SNR for every mass\n",
        "\n",
        "\n",
        "\n",
        "#To iterate through all the masses, I have created a loop to go through all values for the mass \n",
        "\n",
        "for x in range(0, len(mass)): \n",
        "  #creating the template for the different masses \n",
        " \n",
        "  hp, _ = get_td_waveform(approximant='TaylorF2',\n",
        "                          mass1=mass[x],\n",
        "                          mass2=mass[x],\n",
        "                          delta_t=1.0/sample_rate,\n",
        "                          f_lower=20)\n",
        "  # Now we have to resize the vector to match our data\n",
        "  hp.resize(len(conditioned_strain))\n",
        "  template = hp.cyclic_time_shift(hp.start_time)\n",
        " # Now the SNRs needs to be calculated, for every mass\n",
        "  snr = matched_filter(template, \n",
        "                       conditioned_strain,\n",
        "                       psd=psd, \n",
        "                       low_frequency_cutoff=15)\n",
        "  snr = snr.crop(4 + 4, 4)\n",
        "  \n",
        "  #now the maximum SNR values need to be stored in the list that was created earlier\n",
        "  #to determine wether there is a signal, we need to find the maximum SNRs and its location(time)\n",
        "\n",
        "  peak = abs(snr).numpy().argmax() \n",
        "  SNR_list[x][1] = snr[peak] #the first column in the previously created array displays the peak ([i] = for each mass)\n",
        "  SNR_list[x][2] = snr.sample_times[peak] #the second column is the time of the max SNR\n",
        "\n",
        "max_SNR_value = numpy.amax(SNR_list, axis=0)[1]\n",
        "max_SNR = numpy.where(SNR_list == max_SNR_value)[0]\n",
        "max_SNR_time = SNR_list[max_SNR,2]\n",
        "print(\"\\n => The highest SNR value has been found at {} s: SNR value = {}.\".format(max_SNR_time, abs(max_SNR_value)))\n",
        "# Now the SNR values need to be plotted, by overlaying all of the SNR plots for all the different masses\n",
        "pylab.plot(snr.sample_times, abs(snr))\n",
        "pylab.ylabel('signal-to-noise ratio')\n",
        "pylab.xlabel('time (s)')\n",
        "pylab.show()\n",
        "print('Maximum SNR', max(abs(snr)))\n",
        "print(SNR_list)"
      ],
      "metadata": {
        "colab": {
          "base_uri": "https://localhost:8080/",
          "height": 1000
        },
        "id": "tKwm60PvpiVG",
        "outputId": "4e3572fd-3540-4d26-f968-08c50d25ac23"
      },
      "execution_count": 27,
      "outputs": [
        {
          "output_type": "stream",
          "name": "stderr",
          "text": [
            "/usr/local/lib/python3.7/dist-packages/ipykernel_launcher.py:33: ComplexWarning: Casting complex values to real discards the imaginary part\n"
          ]
        },
        {
          "output_type": "stream",
          "name": "stdout",
          "text": [
            "\n",
            " => The highest SNR value has been found at [1.18700868e+09] s: SNR value = 5.375530361948178.\n"
          ]
        },
        {
          "output_type": "display_data",
          "data": {
            "image/png": "[encoded data removed]",
            "text/plain": [
              "<Figure size 432x288 with 1 Axes>"
            ]
          },
          "metadata": {
            "needs_background": "light"
          }
        },
        {
          "output_type": "stream",
          "name": "stdout",
          "text": [
            "Maximum SNR 5.145108668622965\n",
            "[[ 0.00000000e+00 -1.98956270e+00  1.18700885e+09]\n",
            " [ 0.00000000e+00 -4.45421108e+00  1.18700887e+09]\n",
            " [ 0.00000000e+00 -3.75171378e+00  1.18700882e+09]\n",
            " [ 0.00000000e+00  5.37553036e+00  1.18700868e+09]\n",
            " [ 0.00000000e+00  3.21581047e+00  1.18700870e+09]\n",
            " [ 0.00000000e+00 -4.67933962e+00  1.18700877e+09]\n",
            " [ 0.00000000e+00 -2.95340584e+00  1.18700872e+09]\n",
            " [ 0.00000000e+00  2.91729014e+00  1.18700871e+09]\n",
            " [ 0.00000000e+00 -2.80547553e+00  1.18700877e+09]\n",
            " [ 0.00000000e+00 -3.32472535e+00  1.18700870e+09]\n",
            " [ 0.00000000e+00 -5.04333636e+00  1.18700884e+09]\n",
            " [ 0.00000000e+00 -2.16652009e+00  1.18700887e+09]\n",
            " [ 0.00000000e+00 -5.25486221e+00  1.18700878e+09]\n",
            " [ 0.00000000e+00  3.32017675e+00  1.18700886e+09]\n",
            " [ 0.00000000e+00 -1.27772731e+00  1.18700889e+09]\n",
            " [ 0.00000000e+00  4.86898117e+00  1.18700885e+09]\n",
            " [ 0.00000000e+00 -2.79224659e+00  1.18700885e+09]\n",
            " [ 0.00000000e+00  3.92636429e+00  1.18700883e+09]\n",
            " [ 0.00000000e+00  4.35071833e+00  1.18700888e+09]\n",
            " [ 0.00000000e+00  3.71287509e+00  1.18700879e+09]\n",
            " [ 0.00000000e+00  5.05506066e+00  1.18700867e+09]\n",
            " [ 0.00000000e+00 -2.24308451e+00  1.18700876e+09]\n",
            " [ 0.00000000e+00  2.22467884e-01  1.18700871e+09]\n",
            " [ 0.00000000e+00 -3.82300530e+00  1.18700874e+09]\n",
            " [ 0.00000000e+00 -3.15372738e-01  1.18700881e+09]\n",
            " [ 0.00000000e+00  4.73102396e+00  1.18700881e+09]\n",
            " [ 0.00000000e+00  3.69649104e+00  1.18700888e+09]\n",
            " [ 0.00000000e+00 -4.43352448e+00  1.18700884e+09]\n",
            " [ 0.00000000e+00 -3.77639997e+00  1.18700887e+09]\n",
            " [ 0.00000000e+00  2.64931091e+00  1.18700869e+09]\n",
            " [ 0.00000000e+00  4.80617872e+00  1.18700884e+09]\n",
            " [ 0.00000000e+00  2.33810620e+00  1.18700876e+09]\n",
            " [ 0.00000000e+00 -5.47333338e+00  1.18700873e+09]\n",
            " [ 0.00000000e+00 -4.96280152e+00  1.18700887e+09]\n",
            " [ 0.00000000e+00  4.77860932e+00  1.18700888e+09]\n",
            " [ 0.00000000e+00 -4.92209087e+00  1.18700885e+09]\n",
            " [ 0.00000000e+00  1.04723151e+00  1.18700885e+09]\n",
            " [ 0.00000000e+00  4.91806547e+00  1.18700885e+09]\n",
            " [ 0.00000000e+00 -5.15374903e+00  1.18700885e+09]\n",
            " [ 0.00000000e+00 -3.09984832e+00  1.18700888e+09]\n",
            " [ 0.00000000e+00 -6.42030077e-01  1.18700887e+09]\n",
            " [ 0.00000000e+00 -4.27780870e+00  1.18700877e+09]\n",
            " [ 0.00000000e+00 -4.21317280e+00  1.18700887e+09]\n",
            " [ 0.00000000e+00 -2.54951509e+00  1.18700887e+09]\n",
            " [ 0.00000000e+00  4.99127881e+00  1.18700887e+09]\n",
            " [ 0.00000000e+00  1.62128633e+00  1.18700883e+09]\n",
            " [ 0.00000000e+00 -4.72572053e+00  1.18700873e+09]\n",
            " [ 0.00000000e+00  2.99479521e+00  1.18700883e+09]\n",
            " [ 0.00000000e+00  1.52428439e+00  1.18700873e+09]\n",
            " [ 0.00000000e+00  4.94997063e+00  1.18700873e+09]\n",
            " [ 0.00000000e+00 -9.54080332e-01  1.18700884e+09]]\n"
          ]
        }
      ]
    },
    {
      "cell_type": "markdown",
      "source": [
        "As the total max SNR value is 5, it can be concluded that there is no signal present in this data. For a signal to be accepted, it needs a SNR of over 8. This is not the case here.\n"
      ],
      "metadata": {
        "id": "_cbD0s3Wk4wQ"
      }
    },
    {
      "cell_type": "markdown",
      "source": [
        "Exercise 2:\n",
        "White Noise"
      ],
      "metadata": {
        "id": "51iE_zCUlGsq"
      }
    },
    {
      "cell_type": "code",
      "source": [
        "##Whiten the above data using its noise PSD\n",
        "data_whitened = (conditioned_strain.to_frequencyseries() / psd**0.5).to_timeseries()\n",
        "data_whitened = data_whitened.crop(4 + 4, 4)"
      ],
      "metadata": {
        "id": "-SQP2d0Z8WAz"
      },
      "execution_count": 21,
      "outputs": []
    },
    {
      "cell_type": "code",
      "source": [
        "##computing the mean of the noise to check wether it is indeed at 0\n",
        "#summing up the data\n",
        "sum = data_whitened.sum()\n",
        "#dividing by the len of the whitened data\n",
        "mean = sum/len(data_whitened)\n",
        "mean"
      ],
      "metadata": {
        "colab": {
          "base_uri": "https://localhost:8080/"
        },
        "id": "4fP8NiRl8aOV",
        "outputId": "9347a276-e3e8-47a7-89e2-0590d2b05a06"
      },
      "execution_count": 22,
      "outputs": [
        {
          "output_type": "execute_result",
          "data": {
            "text/plain": [
              "-0.0004411651871168172"
            ]
          },
          "metadata": {},
          "execution_count": 22
        }
      ]
    },
    {
      "cell_type": "code",
      "source": [
        "#creating a histogram\n",
        "num_bins = 300 #set the number of desired bins \n",
        "plt.hist(data_whitened, num_bins, facecolor='blue', alpha=0.5) #creating the  histogram \n",
        "\n",
        "min_ylim, max_ylim = plt.ylim() \n",
        "plt.axvline(x = mean , color='k', linestyle='dashed', linewidth=1) #drawing a line at 0 to check if the mean of the whitened data is indeed 0 \n",
        "#setting labels of the histogram\n",
        "pylab.ylabel('Probability')\n",
        "pylab.xlabel('Whitened Strain')\n",
        "pylab.title('Histogram of whitened data')\n",
        "pylab.show()"
      ],
      "metadata": {
        "colab": {
          "base_uri": "https://localhost:8080/",
          "height": 295
        },
        "id": "A3R7dNyC8e8-",
        "outputId": "377c088b-a818-4f82-fc95-c413ee398efd"
      },
      "execution_count": 23,
      "outputs": [
        {
          "output_type": "display_data",
          "data": {
            "image/png": "[encoded data removed]",
            "text/plain": [
              "<Figure size 432x288 with 1 Axes>"
            ]
          },
          "metadata": {
            "needs_background": "light"
          }
        }
      ]
    },
    {
      "cell_type": "code",
      "source": [
        ""
      ],
      "metadata": {
        "id": "DtNeA-VWLiEg"
      },
      "execution_count": 25,
      "outputs": []
    }
  ]
}
